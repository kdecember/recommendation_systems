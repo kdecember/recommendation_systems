{
 "cells": [
  {
   "cell_type": "code",
   "execution_count": 58,
   "metadata": {},
   "outputs": [],
   "source": [
    "import pandas as pd\n",
    "import gzip\n",
    "import json\n",
    "import re\n",
    "import os\n",
    "import pickle\n",
    "import nltk\n",
    "import re"
   ]
  },
  {
   "cell_type": "markdown",
   "metadata": {},
   "source": [
    "## setting up dataframe for manipulation"
   ]
  },
  {
   "cell_type": "code",
   "execution_count": 2,
   "metadata": {},
   "outputs": [],
   "source": [
    "# assign paths for csv data\n",
    "\n",
    "reviews_path = os.path.join(os.pardir, os.pardir, 'data/reviews.csv')\n",
    "games_path = os.path.join(os.pardir, os.pardir, 'data/games.csv')"
   ]
  },
  {
   "cell_type": "code",
   "execution_count": 3,
   "metadata": {},
   "outputs": [],
   "source": [
    "# create dataframes from csv files\n",
    "\n",
    "df_reviews = pd.read_csv(reviews_path)\n",
    "df_games = pd.read_csv(games_path)"
   ]
  },
  {
   "cell_type": "code",
   "execution_count": 4,
   "metadata": {},
   "outputs": [],
   "source": [
    "# drop unnecessary columns\n",
    "\n",
    "df_reviews.drop(['found_funny', 'compensation', 'user_id', 'Unnamed: 0', 'products', 'page_order',\\\n",
    "                'date', 'early_access', 'page'], axis=1, inplace=True)"
   ]
  },
  {
   "cell_type": "code",
   "execution_count": 5,
   "metadata": {},
   "outputs": [],
   "source": [
    "# create a frequency column based on product_id, sort by said column\n",
    "\n",
    "df_reviews['freq'] = df_reviews.groupby('product_id')['product_id'].transform('count')\n",
    "df_reviews.sort_values(by=['freq', 'product_id'], ascending=[False, True], inplace=True)"
   ]
  },
  {
   "cell_type": "code",
   "execution_count": 6,
   "metadata": {},
   "outputs": [],
   "source": [
    "# remove null values\n",
    "\n",
    "df_reviews.dropna(inplace=True)"
   ]
  },
  {
   "cell_type": "code",
   "execution_count": 7,
   "metadata": {},
   "outputs": [],
   "source": [
    "# remove reviews by users that had under 1 hour played for the game\n",
    "# remove games that have less than 500 total reviews\n",
    "\n",
    "df_reviews = df_reviews[df_reviews['hours'] >= 1]\n",
    "df_reviews = df_reviews[df_reviews['freq'] >= 500]"
   ]
  },
  {
   "cell_type": "code",
   "execution_count": 8,
   "metadata": {},
   "outputs": [],
   "source": [
    "# take subsample of data for text manipulation/modeling purposes\n",
    "\n",
    "df_sample = df_reviews.sample(axis=0, n=250000)\n",
    "df_sample.sort_values(by=['freq', 'product_id'], ascending=[False, True], inplace=True)"
   ]
  },
  {
   "cell_type": "markdown",
   "metadata": {},
   "source": [
    "## manipulation trials"
   ]
  },
  {
   "cell_type": "code",
   "execution_count": 35,
   "metadata": {},
   "outputs": [],
   "source": [
    "# make lowercase\n",
    "\n",
    "df_sample['text'] = df_sample['text'].str.lower()"
   ]
  },
  {
   "cell_type": "code",
   "execution_count": 34,
   "metadata": {},
   "outputs": [],
   "source": [
    "# remove new line indicators\n",
    "\n",
    "df_sample['text'] = df_sample['text'].str.replace('\\n', ' ')\n",
    "df_sample['text'] = df_sample['text'].str.replace('.\\n', ' ')"
   ]
  },
  {
   "cell_type": "markdown",
   "metadata": {},
   "source": [
    "## make small dataframe for testing"
   ]
  },
  {
   "cell_type": "code",
   "execution_count": 98,
   "metadata": {},
   "outputs": [
    {
     "data": {
      "text/html": [
       "<div>\n",
       "<style scoped>\n",
       "    .dataframe tbody tr th:only-of-type {\n",
       "        vertical-align: middle;\n",
       "    }\n",
       "\n",
       "    .dataframe tbody tr th {\n",
       "        vertical-align: top;\n",
       "    }\n",
       "\n",
       "    .dataframe thead th {\n",
       "        text-align: right;\n",
       "    }\n",
       "</style>\n",
       "<table border=\"1\" class=\"dataframe\">\n",
       "  <thead>\n",
       "    <tr style=\"text-align: right;\">\n",
       "      <th></th>\n",
       "      <th>username</th>\n",
       "      <th>hours</th>\n",
       "      <th>product_id</th>\n",
       "      <th>text</th>\n",
       "      <th>freq</th>\n",
       "    </tr>\n",
       "  </thead>\n",
       "  <tbody>\n",
       "    <tr>\n",
       "      <td>3812077</td>\n",
       "      <td>Pancakes</td>\n",
       "      <td>606.2</td>\n",
       "      <td>440</td>\n",
       "      <td>exellent game that everyone and their mother s...</td>\n",
       "      <td>183666</td>\n",
       "    </tr>\n",
       "    <tr>\n",
       "      <td>3922485</td>\n",
       "      <td>Nope</td>\n",
       "      <td>280.2</td>\n",
       "      <td>440</td>\n",
       "      <td>it's fun, i'd recommend.</td>\n",
       "      <td>183666</td>\n",
       "    </tr>\n",
       "    <tr>\n",
       "      <td>3960578</td>\n",
       "      <td>Jacques</td>\n",
       "      <td>1096.8</td>\n",
       "      <td>440</td>\n",
       "      <td>this is the best free to play fps on the market.</td>\n",
       "      <td>183666</td>\n",
       "    </tr>\n",
       "    <tr>\n",
       "      <td>3949884</td>\n",
       "      <td>mintoochahal</td>\n",
       "      <td>704.2</td>\n",
       "      <td>440</td>\n",
       "      <td>yes i love it</td>\n",
       "      <td>183666</td>\n",
       "    </tr>\n",
       "    <tr>\n",
       "      <td>3948983</td>\n",
       "      <td>Treven the Meme King</td>\n",
       "      <td>128.8</td>\n",
       "      <td>440</td>\n",
       "      <td>it's free. 10/10</td>\n",
       "      <td>183666</td>\n",
       "    </tr>\n",
       "  </tbody>\n",
       "</table>\n",
       "</div>"
      ],
      "text/plain": [
       "                     username   hours  product_id  \\\n",
       "3812077              Pancakes   606.2         440   \n",
       "3922485                  Nope   280.2         440   \n",
       "3960578               Jacques  1096.8         440   \n",
       "3949884          mintoochahal   704.2         440   \n",
       "3948983  Treven the Meme King   128.8         440   \n",
       "\n",
       "                                                      text    freq  \n",
       "3812077  exellent game that everyone and their mother s...  183666  \n",
       "3922485                           it's fun, i'd recommend.  183666  \n",
       "3960578   this is the best free to play fps on the market.  183666  \n",
       "3949884                                      yes i love it  183666  \n",
       "3948983                                   it's free. 10/10  183666  "
      ]
     },
     "execution_count": 98,
     "metadata": {},
     "output_type": "execute_result"
    }
   ],
   "source": [
    "df_test = df_sample[:5]\n",
    "df_test"
   ]
  },
  {
   "cell_type": "code",
   "execution_count": 74,
   "metadata": {},
   "outputs": [],
   "source": [
    "# intended to remove punctuation\n",
    "# issue is that it doesn't save\n",
    "\n",
    "for index, row in df_test.iterrows():\n",
    "    row['text'] = re.sub(r'[^\\w\\s]', '', row['text'])"
   ]
  },
  {
   "cell_type": "code",
   "execution_count": 75,
   "metadata": {},
   "outputs": [
    {
     "data": {
      "text/html": [
       "<div>\n",
       "<style scoped>\n",
       "    .dataframe tbody tr th:only-of-type {\n",
       "        vertical-align: middle;\n",
       "    }\n",
       "\n",
       "    .dataframe tbody tr th {\n",
       "        vertical-align: top;\n",
       "    }\n",
       "\n",
       "    .dataframe thead th {\n",
       "        text-align: right;\n",
       "    }\n",
       "</style>\n",
       "<table border=\"1\" class=\"dataframe\">\n",
       "  <thead>\n",
       "    <tr style=\"text-align: right;\">\n",
       "      <th></th>\n",
       "      <th>username</th>\n",
       "      <th>hours</th>\n",
       "      <th>product_id</th>\n",
       "      <th>text</th>\n",
       "      <th>freq</th>\n",
       "      <th>tokens</th>\n",
       "      <th>stopped</th>\n",
       "    </tr>\n",
       "  </thead>\n",
       "  <tbody>\n",
       "    <tr>\n",
       "      <td>3812077</td>\n",
       "      <td>Pancakes</td>\n",
       "      <td>606.2</td>\n",
       "      <td>440</td>\n",
       "      <td>exellent game that everyone and their mother s...</td>\n",
       "      <td>183666</td>\n",
       "      <td>[exellent, game, that, everyone, and, their, m...</td>\n",
       "      <td>[exellent, game, that, everyone, and, their, m...</td>\n",
       "    </tr>\n",
       "    <tr>\n",
       "      <td>3922485</td>\n",
       "      <td>Nope</td>\n",
       "      <td>280.2</td>\n",
       "      <td>440</td>\n",
       "      <td>it's fun, i'd recommend.</td>\n",
       "      <td>183666</td>\n",
       "      <td>[it, 's, fun, ,, i, 'd, recommend, .]</td>\n",
       "      <td>[it, 's, fun, ,, i, 'd, recommend, .]</td>\n",
       "    </tr>\n",
       "    <tr>\n",
       "      <td>3960578</td>\n",
       "      <td>Jacques</td>\n",
       "      <td>1096.8</td>\n",
       "      <td>440</td>\n",
       "      <td>this is the best free to play fps on the market.</td>\n",
       "      <td>183666</td>\n",
       "      <td>[this, is, the, best, free, to, play, fps, on,...</td>\n",
       "      <td>[this, is, the, best, free, to, play, fps, on,...</td>\n",
       "    </tr>\n",
       "    <tr>\n",
       "      <td>3949884</td>\n",
       "      <td>mintoochahal</td>\n",
       "      <td>704.2</td>\n",
       "      <td>440</td>\n",
       "      <td>yes i love it</td>\n",
       "      <td>183666</td>\n",
       "      <td>[yes, i, love, it]</td>\n",
       "      <td>[yes, i, love, it]</td>\n",
       "    </tr>\n",
       "    <tr>\n",
       "      <td>3948983</td>\n",
       "      <td>Treven the Meme King</td>\n",
       "      <td>128.8</td>\n",
       "      <td>440</td>\n",
       "      <td>it's free. 10/10</td>\n",
       "      <td>183666</td>\n",
       "      <td>[it, 's, free, ., 10/10]</td>\n",
       "      <td>[it, 's, free, ., 10/10]</td>\n",
       "    </tr>\n",
       "  </tbody>\n",
       "</table>\n",
       "</div>"
      ],
      "text/plain": [
       "                     username   hours  product_id  \\\n",
       "3812077              Pancakes   606.2         440   \n",
       "3922485                  Nope   280.2         440   \n",
       "3960578               Jacques  1096.8         440   \n",
       "3949884          mintoochahal   704.2         440   \n",
       "3948983  Treven the Meme King   128.8         440   \n",
       "\n",
       "                                                      text    freq  \\\n",
       "3812077  exellent game that everyone and their mother s...  183666   \n",
       "3922485                           it's fun, i'd recommend.  183666   \n",
       "3960578   this is the best free to play fps on the market.  183666   \n",
       "3949884                                      yes i love it  183666   \n",
       "3948983                                   it's free. 10/10  183666   \n",
       "\n",
       "                                                    tokens  \\\n",
       "3812077  [exellent, game, that, everyone, and, their, m...   \n",
       "3922485              [it, 's, fun, ,, i, 'd, recommend, .]   \n",
       "3960578  [this, is, the, best, free, to, play, fps, on,...   \n",
       "3949884                                 [yes, i, love, it]   \n",
       "3948983                           [it, 's, free, ., 10/10]   \n",
       "\n",
       "                                                   stopped  \n",
       "3812077  [exellent, game, that, everyone, and, their, m...  \n",
       "3922485              [it, 's, fun, ,, i, 'd, recommend, .]  \n",
       "3960578  [this, is, the, best, free, to, play, fps, on,...  \n",
       "3949884                                 [yes, i, love, it]  \n",
       "3948983                           [it, 's, free, ., 10/10]  "
      ]
     },
     "execution_count": 75,
     "metadata": {},
     "output_type": "execute_result"
    }
   ],
   "source": []
  },
  {
   "cell_type": "code",
   "execution_count": null,
   "metadata": {},
   "outputs": [],
   "source": []
  },
  {
   "cell_type": "code",
   "execution_count": 53,
   "metadata": {},
   "outputs": [
    {
     "name": "stderr",
     "output_type": "stream",
     "text": [
      "[nltk_data] Downloading package words to\n",
      "[nltk_data]     /Users/kyledecember1/nltk_data...\n",
      "[nltk_data]   Package words is already up-to-date!\n",
      "[nltk_data] Downloading package punkt to\n",
      "[nltk_data]     /Users/kyledecember1/nltk_data...\n",
      "[nltk_data]   Package punkt is already up-to-date!\n"
     ]
    },
    {
     "data": {
      "text/plain": [
       "True"
      ]
     },
     "execution_count": 53,
     "metadata": {},
     "output_type": "execute_result"
    }
   ],
   "source": [
    "from nltk.corpus import stopwords\n",
    "\n",
    "nltk.download('words')\n",
    "nltk.download('punkt')"
   ]
  },
  {
   "cell_type": "code",
   "execution_count": 99,
   "metadata": {},
   "outputs": [],
   "source": [
    "stop_words = stopwords.words('english')"
   ]
  },
  {
   "cell_type": "code",
   "execution_count": 104,
   "metadata": {
    "collapsed": true,
    "jupyter": {
     "outputs_hidden": true
    }
   },
   "outputs": [
    {
     "data": {
      "text/plain": [
       "['i',\n",
       " 'me',\n",
       " 'my',\n",
       " 'myself',\n",
       " 'we',\n",
       " 'our',\n",
       " 'ours',\n",
       " 'ourselves',\n",
       " 'you',\n",
       " \"you're\",\n",
       " \"you've\",\n",
       " \"you'll\",\n",
       " \"you'd\",\n",
       " 'your',\n",
       " 'yours',\n",
       " 'yourself',\n",
       " 'yourselves',\n",
       " 'he',\n",
       " 'him',\n",
       " 'his',\n",
       " 'himself',\n",
       " 'she',\n",
       " \"she's\",\n",
       " 'her',\n",
       " 'hers',\n",
       " 'herself',\n",
       " 'it',\n",
       " \"it's\",\n",
       " 'its',\n",
       " 'itself',\n",
       " 'they',\n",
       " 'them',\n",
       " 'their',\n",
       " 'theirs',\n",
       " 'themselves',\n",
       " 'what',\n",
       " 'which',\n",
       " 'who',\n",
       " 'whom',\n",
       " 'this',\n",
       " 'that',\n",
       " \"that'll\",\n",
       " 'these',\n",
       " 'those',\n",
       " 'am',\n",
       " 'is',\n",
       " 'are',\n",
       " 'was',\n",
       " 'were',\n",
       " 'be',\n",
       " 'been',\n",
       " 'being',\n",
       " 'have',\n",
       " 'has',\n",
       " 'had',\n",
       " 'having',\n",
       " 'do',\n",
       " 'does',\n",
       " 'did',\n",
       " 'doing',\n",
       " 'a',\n",
       " 'an',\n",
       " 'the',\n",
       " 'and',\n",
       " 'but',\n",
       " 'if',\n",
       " 'or',\n",
       " 'because',\n",
       " 'as',\n",
       " 'until',\n",
       " 'while',\n",
       " 'of',\n",
       " 'at',\n",
       " 'by',\n",
       " 'for',\n",
       " 'with',\n",
       " 'about',\n",
       " 'against',\n",
       " 'between',\n",
       " 'into',\n",
       " 'through',\n",
       " 'during',\n",
       " 'before',\n",
       " 'after',\n",
       " 'above',\n",
       " 'below',\n",
       " 'to',\n",
       " 'from',\n",
       " 'up',\n",
       " 'down',\n",
       " 'in',\n",
       " 'out',\n",
       " 'on',\n",
       " 'off',\n",
       " 'over',\n",
       " 'under',\n",
       " 'again',\n",
       " 'further',\n",
       " 'then',\n",
       " 'once',\n",
       " 'here',\n",
       " 'there',\n",
       " 'when',\n",
       " 'where',\n",
       " 'why',\n",
       " 'how',\n",
       " 'all',\n",
       " 'any',\n",
       " 'both',\n",
       " 'each',\n",
       " 'few',\n",
       " 'more',\n",
       " 'most',\n",
       " 'other',\n",
       " 'some',\n",
       " 'such',\n",
       " 'no',\n",
       " 'nor',\n",
       " 'not',\n",
       " 'only',\n",
       " 'own',\n",
       " 'same',\n",
       " 'so',\n",
       " 'than',\n",
       " 'too',\n",
       " 'very',\n",
       " 's',\n",
       " 't',\n",
       " 'can',\n",
       " 'will',\n",
       " 'just',\n",
       " 'don',\n",
       " \"don't\",\n",
       " 'should',\n",
       " \"should've\",\n",
       " 'now',\n",
       " 'd',\n",
       " 'll',\n",
       " 'm',\n",
       " 'o',\n",
       " 're',\n",
       " 've',\n",
       " 'y',\n",
       " 'ain',\n",
       " 'aren',\n",
       " \"aren't\",\n",
       " 'couldn',\n",
       " \"couldn't\",\n",
       " 'didn',\n",
       " \"didn't\",\n",
       " 'doesn',\n",
       " \"doesn't\",\n",
       " 'hadn',\n",
       " \"hadn't\",\n",
       " 'hasn',\n",
       " \"hasn't\",\n",
       " 'haven',\n",
       " \"haven't\",\n",
       " 'isn',\n",
       " \"isn't\",\n",
       " 'ma',\n",
       " 'mightn',\n",
       " \"mightn't\",\n",
       " 'mustn',\n",
       " \"mustn't\",\n",
       " 'needn',\n",
       " \"needn't\",\n",
       " 'shan',\n",
       " \"shan't\",\n",
       " 'shouldn',\n",
       " \"shouldn't\",\n",
       " 'wasn',\n",
       " \"wasn't\",\n",
       " 'weren',\n",
       " \"weren't\",\n",
       " 'won',\n",
       " \"won't\",\n",
       " 'wouldn',\n",
       " \"wouldn't\"]"
      ]
     },
     "execution_count": 104,
     "metadata": {},
     "output_type": "execute_result"
    }
   ],
   "source": [
    "stop_words"
   ]
  },
  {
   "cell_type": "code",
   "execution_count": 107,
   "metadata": {},
   "outputs": [
    {
     "name": "stderr",
     "output_type": "stream",
     "text": [
      "/Users/kyledecember1/opt/anaconda3/envs/learn-env/lib/python3.6/site-packages/ipykernel_launcher.py:1: SettingWithCopyWarning: \n",
      "A value is trying to be set on a copy of a slice from a DataFrame.\n",
      "Try using .loc[row_indexer,col_indexer] = value instead\n",
      "\n",
      "See the caveats in the documentation: http://pandas.pydata.org/pandas-docs/stable/user_guide/indexing.html#returning-a-view-versus-a-copy\n",
      "  \"\"\"Entry point for launching an IPython kernel.\n"
     ]
    },
    {
     "data": {
      "text/plain": [
       "3812077    [exellent, game, that, everyone, and, their, m...\n",
       "3922485                [it, 's, fun, ,, i, 'd, recommend, .]\n",
       "3960578    [this, is, the, best, free, to, play, fps, on,...\n",
       "3949884                                   [yes, i, love, it]\n",
       "3948983                             [it, 's, free, ., 10/10]\n",
       "Name: tokens, dtype: object"
      ]
     },
     "execution_count": 107,
     "metadata": {},
     "output_type": "execute_result"
    }
   ],
   "source": [
    "df_test['tokens'] = df_test['text'].apply(nltk.word_tokenize)\n",
    "df_test['tokens']"
   ]
  },
  {
   "cell_type": "code",
   "execution_count": 105,
   "metadata": {},
   "outputs": [
    {
     "name": "stderr",
     "output_type": "stream",
     "text": [
      "/Users/kyledecember1/opt/anaconda3/envs/learn-env/lib/python3.6/site-packages/ipykernel_launcher.py:1: SettingWithCopyWarning: \n",
      "A value is trying to be set on a copy of a slice from a DataFrame.\n",
      "Try using .loc[row_indexer,col_indexer] = value instead\n",
      "\n",
      "See the caveats in the documentation: http://pandas.pydata.org/pandas-docs/stable/user_guide/indexing.html#returning-a-view-versus-a-copy\n",
      "  \"\"\"Entry point for launching an IPython kernel.\n"
     ]
    }
   ],
   "source": [
    "df_test['stopped'] = [word for word in df_test['tokens'] if word not in stop_words]  "
   ]
  },
  {
   "cell_type": "code",
   "execution_count": 106,
   "metadata": {},
   "outputs": [
    {
     "data": {
      "text/plain": [
       "3812077    [exellent, game, that, everyone, and, their, m...\n",
       "3922485                [it, 's, fun, ,, i, 'd, recommend, .]\n",
       "3960578    [this, is, the, best, free, to, play, fps, on,...\n",
       "3949884                                   [yes, i, love, it]\n",
       "3948983                             [it, 's, free, ., 10/10]\n",
       "Name: stopped, dtype: object"
      ]
     },
     "execution_count": 106,
     "metadata": {},
     "output_type": "execute_result"
    }
   ],
   "source": [
    "df_test['stopped']"
   ]
  },
  {
   "cell_type": "code",
   "execution_count": 108,
   "metadata": {},
   "outputs": [
    {
     "name": "stderr",
     "output_type": "stream",
     "text": [
      "/Users/kyledecember1/opt/anaconda3/envs/learn-env/lib/python3.6/site-packages/ipykernel_launcher.py:3: SettingWithCopyWarning: \n",
      "A value is trying to be set on a copy of a slice from a DataFrame.\n",
      "Try using .loc[row_indexer,col_indexer] = value instead\n",
      "\n",
      "See the caveats in the documentation: http://pandas.pydata.org/pandas-docs/stable/user_guide/indexing.html#returning-a-view-versus-a-copy\n",
      "  This is separate from the ipykernel package so we can avoid doing imports until\n"
     ]
    },
    {
     "data": {
      "text/plain": [
       "3812077    exellent, game, that, everyone, and, their, mo...\n",
       "3922485                  it, 's, fun, ,, i, 'd, recommend, .\n",
       "3960578    this, is, the, best, free, to, play, fps, on, ...\n",
       "3949884                                     yes, i, love, it\n",
       "3948983                               it, 's, free, ., 10/10\n",
       "Name: stopped, dtype: object"
      ]
     },
     "execution_count": 108,
     "metadata": {},
     "output_type": "execute_result"
    }
   ],
   "source": [
    "# join stopped lists into one string\n",
    "\n",
    "df_test['stopped'] = df_test['stopped'].apply(', '.join)\n",
    "df_test['stopped']"
   ]
  },
  {
   "cell_type": "markdown",
   "metadata": {},
   "source": [
    "# further requirements\n",
    "    - remove punctuation\n",
    "    - determine why stopped words are not being removed"
   ]
  },
  {
   "cell_type": "code",
   "execution_count": 79,
   "metadata": {},
   "outputs": [],
   "source": []
  },
  {
   "cell_type": "markdown",
   "metadata": {},
   "source": [
    "### attempts to remove punctuation"
   ]
  },
  {
   "cell_type": "code",
   "execution_count": null,
   "metadata": {},
   "outputs": [],
   "source": [
    "# attempt 1\n",
    "\n",
    "df_test['stopped'].apply(re.sub(r'[^\\w\\s]', '', df_test['stopped']))"
   ]
  },
  {
   "cell_type": "code",
   "execution_count": null,
   "metadata": {},
   "outputs": [],
   "source": [
    "# attempt 2\n",
    "\n",
    "for index, row in df_test.iterrows():\n",
    "    row['text'] = re.sub(r'[^\\w\\s]', '', row['text'])"
   ]
  },
  {
   "cell_type": "code",
   "execution_count": null,
   "metadata": {},
   "outputs": [],
   "source": [
    "# attempt 3\n",
    "\n",
    "re.sub(r'[^\\w\\s]', '', df_test['text'].iloc[0])"
   ]
  }
 ],
 "metadata": {
  "kernelspec": {
   "display_name": "learn-env",
   "language": "python",
   "name": "learn-env"
  },
  "language_info": {
   "codemirror_mode": {
    "name": "ipython",
    "version": 3
   },
   "file_extension": ".py",
   "mimetype": "text/x-python",
   "name": "python",
   "nbconvert_exporter": "python",
   "pygments_lexer": "ipython3",
   "version": "3.6.9"
  }
 },
 "nbformat": 4,
 "nbformat_minor": 4
}
