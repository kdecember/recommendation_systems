{
 "cells": [
  {
   "cell_type": "code",
   "execution_count": 1,
   "metadata": {},
   "outputs": [
    {
     "name": "stderr",
     "output_type": "stream",
     "text": [
      "[nltk_data] Downloading package words to\n",
      "[nltk_data]     /Users/kyledecember1/nltk_data...\n",
      "[nltk_data]   Package words is already up-to-date!\n",
      "[nltk_data] Downloading package punkt to\n",
      "[nltk_data]     /Users/kyledecember1/nltk_data...\n",
      "[nltk_data]   Package punkt is already up-to-date!\n"
     ]
    },
    {
     "data": {
      "text/plain": [
       "True"
      ]
     },
     "execution_count": 1,
     "metadata": {},
     "output_type": "execute_result"
    }
   ],
   "source": [
    "import pandas as pd\n",
    "import gzip\n",
    "import json\n",
    "import re\n",
    "import os\n",
    "import pickle\n",
    "import nltk\n",
    "import re\n",
    "import multiprocessing\n",
    "\n",
    "from nltk.corpus import stopwords\n",
    "nltk.download('words')\n",
    "nltk.download('punkt')"
   ]
  },
  {
   "cell_type": "code",
   "execution_count": 2,
   "metadata": {},
   "outputs": [],
   "source": [
    "from tqdm import tqdm\n",
    "from gensim.models import Doc2Vec\n",
    "from sklearn import utils\n",
    "from sklearn.model_selection import train_test_split\n",
    "import gensim\n",
    "from sklearn.linear_model import LogisticRegression\n",
    "from gensim.models.doc2vec import TaggedDocument\n",
    "from sklearn.metrics import accuracy_score, f1_score\n",
    "\n",
    "import seaborn as sns\n",
    "import matplotlib.pyplot as plt"
   ]
  },
  {
   "cell_type": "markdown",
   "metadata": {},
   "source": [
    "    define functions"
   ]
  },
  {
   "cell_type": "code",
   "execution_count": 3,
   "metadata": {},
   "outputs": [],
   "source": [
    "cores = multiprocessing.cpu_count()\n",
    "\n",
    "def tokenize_text(text):\n",
    "    tokens = []\n",
    "    for sent in nltk.sent_tokenize(text):\n",
    "        for word in nltk.word_tokenize(sent):\n",
    "            if len(word) < 2:\n",
    "                continue\n",
    "            tokens.append(word.lower())\n",
    "    return tokens\n",
    "\n",
    "def get_recs(model, user_input, n=5):\n",
    "    description = user_input.split(' ')\n",
    "    desc_vec = model.infer_vector(description)\n",
    "    recs = model.docvecs.most_similar([desc_vec])[:n]\n",
    "    \n",
    "    return recs\n",
    "\n",
    "def show_game_desc(recs, df):\n",
    "    games = {}\n",
    "    for rec in recs:\n",
    "        games[rec[0]] = df[df['product_id'] == rec[0]]['title']\n",
    "        \n",
    "    return games"
   ]
  },
  {
   "cell_type": "markdown",
   "metadata": {},
   "source": [
    "    assign file paths for csvs"
   ]
  },
  {
   "cell_type": "code",
   "execution_count": 4,
   "metadata": {},
   "outputs": [],
   "source": [
    "# assign paths for csv data\n",
    "\n",
    "reviews_path = os.path.join(os.pardir, os.pardir, 'data/reviews.csv')\n",
    "games_path = os.path.join(os.pardir, os.pardir, 'data/games.csv')"
   ]
  },
  {
   "cell_type": "markdown",
   "metadata": {},
   "source": [
    "    generate dataframe for game information"
   ]
  },
  {
   "cell_type": "code",
   "execution_count": 5,
   "metadata": {},
   "outputs": [],
   "source": [
    "#import df_games \n",
    "df_games = pd.read_csv(games_path)\n",
    "\n",
    "#drop null values\n",
    "df_games['id'].dropna(inplace=True)\n",
    "\n",
    "# create product_id column in df_games based on str formatted id column\n",
    "df_games['product_id'] = df_games['id'].astype(int).astype(str)"
   ]
  },
  {
   "cell_type": "markdown",
   "metadata": {},
   "source": [
    "    create dataframe for game reviews & filter out unrelated/insignificant data"
   ]
  },
  {
   "cell_type": "code",
   "execution_count": 8,
   "metadata": {},
   "outputs": [],
   "source": [
    "# create dataframes from csv files\n",
    "df_reviews = pd.read_csv(reviews_path)\n",
    "\n",
    "# drop unnecessary columns\n",
    "df_reviews.drop(['found_funny', 'compensation', 'user_id', 'Unnamed: 0', 'products', 'page_order',\\\n",
    "                'date', 'early_access', 'page'], axis=1, inplace=True)\n",
    "\n",
    "# create a frequency column based on product_id, sort by said column\n",
    "df_reviews['freq'] = df_reviews.groupby('product_id')['product_id'].transform('count')\n",
    "df_reviews.sort_values(by=['freq', 'product_id'], ascending=[False, True], inplace=True)\n",
    "\n",
    "# remove null values\n",
    "df_reviews.dropna(inplace=True)\n",
    "\n",
    "# remove reviews by users that had under 1 hour played for the game\n",
    "df_reviews = df_reviews[df_reviews['hours'] >= 1]\n",
    "\n",
    "# remove games that have less than 500 total reviews\n",
    "df_reviews = df_reviews[df_reviews['freq'] >= 500]\n",
    "\n",
    "# convert product_id to strings because Doc2Vec needs strings as Tags\n",
    "df_reviews['product_id'] = df_reviews['product_id'].astype(str)"
   ]
  },
  {
   "cell_type": "markdown",
   "metadata": {},
   "source": [
    "    create a sample dataframe of the reviews, and clean the text"
   ]
  },
  {
   "cell_type": "code",
   "execution_count": 9,
   "metadata": {},
   "outputs": [],
   "source": [
    "# take subsample of data for text manipulation/modeling purposes\n",
    "\n",
    "df_sample = df_reviews.sample(axis=0, n=250000)\n",
    "df_sample.sort_values(by=['freq', 'product_id'], ascending=[False, True], inplace=True)\n",
    "\n",
    "# make lowercase\n",
    "df_sample['text'] = df_sample['text'].str.lower()\n",
    "\n",
    "# remove new line indicators\n",
    "df_sample['text'] = df_sample['text'].str.replace('\\n', ' ')\n",
    "df_sample['text'] = df_sample['text'].str.replace('.\\n', ' ')\n",
    "\n",
    "# tokenize text\n",
    "df_sample['tokens'] = df_sample['text'].apply(nltk.word_tokenize)\n",
    "df_sample['tokens']\n",
    "\n",
    "# join tokens into single string\n",
    "df_sample['clean_text'] = df_sample['tokens'].apply(', '.join)"
   ]
  },
  {
   "cell_type": "markdown",
   "metadata": {},
   "source": [
    "    create dictionary of aggregated text for each game & export to pickle file"
   ]
  },
  {
   "cell_type": "code",
   "execution_count": null,
   "metadata": {},
   "outputs": [],
   "source": [
    "products = list(df_sample['product_id'].unique())\n",
    "\n",
    "product_dict = {}\n",
    "for product_id in products:\n",
    "    product_dict[product_id] = ''\n",
    "\n",
    "for key in product_dict:\n",
    "    for index, row in df_sample[df_sample['product_id'] == key].iterrows():\n",
    "        product_dict[key] = product_dict[key] + ' ' + row['text']\n",
    "\n",
    "with open('sample_agg_reviews.p', 'wb') as fp:\n",
    "    pickle.dump(product_dict, fp, protocol=pickle.HIGHEST_PROTOCOL)"
   ]
  },
  {
   "cell_type": "markdown",
   "metadata": {},
   "source": [
    "# Model_1\n",
    "\n",
    "** attempts to improve from FSM that simply recommended the most reviewed games"
   ]
  },
  {
   "cell_type": "code",
   "execution_count": 17,
   "metadata": {},
   "outputs": [],
   "source": [
    "train, test = train_test_split(df_sample, test_size=0.3, random_state=42)"
   ]
  },
  {
   "cell_type": "code",
   "execution_count": 19,
   "metadata": {},
   "outputs": [],
   "source": [
    "train_tagged = train.apply(\n",
    "    lambda r: TaggedDocument(words=tokenize_text(r['clean_text']), tags=[r['product_id']]), axis=1)\n",
    "test_tagged = test.apply(\n",
    "    lambda r: TaggedDocument(words=tokenize_text(r['clean_text']), tags=[r['product_id']]), axis=1)"
   ]
  },
  {
   "cell_type": "code",
   "execution_count": 22,
   "metadata": {},
   "outputs": [],
   "source": [
    "cores = multiprocessing.cpu_count()"
   ]
  },
  {
   "cell_type": "code",
   "execution_count": 23,
   "metadata": {},
   "outputs": [
    {
     "name": "stderr",
     "output_type": "stream",
     "text": [
      "100%|██████████| 175000/175000 [00:00<00:00, 1890401.49it/s]\n"
     ]
    }
   ],
   "source": [
    "# initiate model\n",
    "\n",
    "model1 = Doc2Vec(dm=0, vector_size=300, negative=5, hs=0, min_count=2, sample = 0, workers=cores)\n",
    "model1.build_vocab([x for x in tqdm(train_tagged.values)])"
   ]
  },
  {
   "cell_type": "code",
   "execution_count": 24,
   "metadata": {},
   "outputs": [],
   "source": [
    "# train model on tagged documents\n",
    "\n",
    "model1.train(train_tagged, total_examples=len(train_tagged), epochs=30)"
   ]
  },
  {
   "cell_type": "code",
   "execution_count": null,
   "metadata": {},
   "outputs": [],
   "source": [
    "# save model\n",
    "\n",
    "model1.save('model1.d2v')"
   ]
  },
  {
   "cell_type": "code",
   "execution_count": 40,
   "metadata": {},
   "outputs": [],
   "source": [
    "# create string for testing\n",
    "\n",
    "sent = 'epic fast paced shooter game, that allows me to customize my character and play with friends'.split(' ')\n",
    "sent_vec = model1.infer_vector(sent)"
   ]
  },
  {
   "cell_type": "code",
   "execution_count": 97,
   "metadata": {},
   "outputs": [],
   "source": [
    "# generate recommendations based on most similar vectors\n",
    "\n",
    "recs = model1.docvecs.most_similar([sent_vec])"
   ]
  },
  {
   "cell_type": "code",
   "execution_count": 99,
   "metadata": {},
   "outputs": [
    {
     "data": {
      "text/html": [
       "<div>\n",
       "<style scoped>\n",
       "    .dataframe tbody tr th:only-of-type {\n",
       "        vertical-align: middle;\n",
       "    }\n",
       "\n",
       "    .dataframe tbody tr th {\n",
       "        vertical-align: top;\n",
       "    }\n",
       "\n",
       "    .dataframe thead th {\n",
       "        text-align: right;\n",
       "    }\n",
       "</style>\n",
       "<table border=\"1\" class=\"dataframe\">\n",
       "  <thead>\n",
       "    <tr style=\"text-align: right;\">\n",
       "      <th></th>\n",
       "      <th>username</th>\n",
       "      <th>hours</th>\n",
       "      <th>product_id</th>\n",
       "      <th>text</th>\n",
       "      <th>freq</th>\n",
       "      <th>tokens</th>\n",
       "      <th>clean_text</th>\n",
       "    </tr>\n",
       "  </thead>\n",
       "  <tbody>\n",
       "    <tr>\n",
       "      <td>6186197</td>\n",
       "      <td>Doc Bison</td>\n",
       "      <td>1.6</td>\n",
       "      <td>354500</td>\n",
       "      <td>bain really needs a haircut.</td>\n",
       "      <td>690</td>\n",
       "      <td>[bain, really, needs, a, haircut, .]</td>\n",
       "      <td>bain, really, needs, a, haircut, .</td>\n",
       "    </tr>\n",
       "  </tbody>\n",
       "</table>\n",
       "</div>"
      ],
      "text/plain": [
       "          username  hours product_id                          text  freq  \\\n",
       "6186197  Doc Bison    1.6     354500  bain really needs a haircut.   690   \n",
       "\n",
       "                                       tokens  \\\n",
       "6186197  [bain, really, needs, a, haircut, .]   \n",
       "\n",
       "                                 clean_text  \n",
       "6186197  bain, really, needs, a, haircut, .  "
      ]
     },
     "execution_count": 99,
     "metadata": {},
     "output_type": "execute_result"
    }
   ],
   "source": [
    "# return data related to recommendation\n",
    "\n",
    "df_sample[df_sample['product_id'] == recs[0][0]]"
   ]
  },
  {
   "cell_type": "code",
   "execution_count": 18,
   "metadata": {},
   "outputs": [
    {
     "ename": "NameError",
     "evalue": "name 'games_path' is not defined",
     "output_type": "error",
     "traceback": [
      "\u001b[0;31m---------------------------------------------------------------------------\u001b[0m",
      "\u001b[0;31mNameError\u001b[0m                                 Traceback (most recent call last)",
      "\u001b[0;32m<ipython-input-18-17a38ac06702>\u001b[0m in \u001b[0;36m<module>\u001b[0;34m\u001b[0m\n\u001b[1;32m      3\u001b[0m \u001b[0;31m# create product_id column in df_games based on str formatted id column\u001b[0m\u001b[0;34m\u001b[0m\u001b[0;34m\u001b[0m\u001b[0;34m\u001b[0m\u001b[0m\n\u001b[1;32m      4\u001b[0m \u001b[0;34m\u001b[0m\u001b[0m\n\u001b[0;32m----> 5\u001b[0;31m \u001b[0mdf_games\u001b[0m \u001b[0;34m=\u001b[0m \u001b[0mpd\u001b[0m\u001b[0;34m.\u001b[0m\u001b[0mread_csv\u001b[0m\u001b[0;34m(\u001b[0m\u001b[0mgames_path\u001b[0m\u001b[0;34m)\u001b[0m\u001b[0;34m\u001b[0m\u001b[0;34m\u001b[0m\u001b[0m\n\u001b[0m\u001b[1;32m      6\u001b[0m \u001b[0mdf_games\u001b[0m\u001b[0;34m[\u001b[0m\u001b[0;34m'id'\u001b[0m\u001b[0;34m]\u001b[0m\u001b[0;34m.\u001b[0m\u001b[0mdropna\u001b[0m\u001b[0;34m(\u001b[0m\u001b[0minplace\u001b[0m\u001b[0;34m=\u001b[0m\u001b[0;32mTrue\u001b[0m\u001b[0;34m)\u001b[0m\u001b[0;34m\u001b[0m\u001b[0;34m\u001b[0m\u001b[0m\n\u001b[1;32m      7\u001b[0m \u001b[0mdf_games\u001b[0m\u001b[0;34m[\u001b[0m\u001b[0;34m'product_id'\u001b[0m\u001b[0;34m]\u001b[0m \u001b[0;34m=\u001b[0m \u001b[0mdf_games\u001b[0m\u001b[0;34m[\u001b[0m\u001b[0;34m'id'\u001b[0m\u001b[0;34m]\u001b[0m\u001b[0;34m.\u001b[0m\u001b[0mastype\u001b[0m\u001b[0;34m(\u001b[0m\u001b[0mint\u001b[0m\u001b[0;34m)\u001b[0m\u001b[0;34m.\u001b[0m\u001b[0mastype\u001b[0m\u001b[0;34m(\u001b[0m\u001b[0mstr\u001b[0m\u001b[0;34m)\u001b[0m\u001b[0;34m\u001b[0m\u001b[0;34m\u001b[0m\u001b[0m\n",
      "\u001b[0;31mNameError\u001b[0m: name 'games_path' is not defined"
     ]
    }
   ],
   "source": [
    "#import df_games \n",
    "#drop null values\n",
    "# create product_id column in df_games based on str formatted id column\n",
    "\n",
    "df_games = pd.read_csv(games_path)\n",
    "df_games['id'].dropna(inplace=True)\n",
    "df_games['product_id'] = df_games['id'].astype(int).astype(str)"
   ]
  },
  {
   "cell_type": "code",
   "execution_count": 142,
   "metadata": {},
   "outputs": [],
   "source": [
    "# remove trailing decimal places \n",
    "\n",
    "df_games['product_id'] = df_games['product_id'].str.replace('.0', '')"
   ]
  },
  {
   "cell_type": "code",
   "execution_count": 152,
   "metadata": {},
   "outputs": [
    {
     "data": {
      "text/html": [
       "<div>\n",
       "<style scoped>\n",
       "    .dataframe tbody tr th:only-of-type {\n",
       "        vertical-align: middle;\n",
       "    }\n",
       "\n",
       "    .dataframe tbody tr th {\n",
       "        vertical-align: top;\n",
       "    }\n",
       "\n",
       "    .dataframe thead th {\n",
       "        text-align: right;\n",
       "    }\n",
       "</style>\n",
       "<table border=\"1\" class=\"dataframe\">\n",
       "  <thead>\n",
       "    <tr style=\"text-align: right;\">\n",
       "      <th></th>\n",
       "      <th>Unnamed: 0</th>\n",
       "      <th>publisher</th>\n",
       "      <th>genres</th>\n",
       "      <th>app_name</th>\n",
       "      <th>title</th>\n",
       "      <th>url</th>\n",
       "      <th>release_date</th>\n",
       "      <th>tags</th>\n",
       "      <th>discount_price</th>\n",
       "      <th>reviews_url</th>\n",
       "      <th>specs</th>\n",
       "      <th>price</th>\n",
       "      <th>early_access</th>\n",
       "      <th>id</th>\n",
       "      <th>developer</th>\n",
       "      <th>sentiment</th>\n",
       "      <th>metascore</th>\n",
       "      <th>product_id</th>\n",
       "    </tr>\n",
       "  </thead>\n",
       "  <tbody>\n",
       "    <tr>\n",
       "      <td>27178</td>\n",
       "      <td>27178</td>\n",
       "      <td>NaN</td>\n",
       "      <td>NaN</td>\n",
       "      <td>PAYDAY: The Web Series</td>\n",
       "      <td>PAYDAY: The Web Series</td>\n",
       "      <td>http://store.steampowered.com/app/354500/PAYDA...</td>\n",
       "      <td>2015-03-10</td>\n",
       "      <td>['Action', 'Heist', 'Violent', 'Free to Play',...</td>\n",
       "      <td>NaN</td>\n",
       "      <td>http://steamcommunity.com/app/354500/reviews/?...</td>\n",
       "      <td>NaN</td>\n",
       "      <td>Free</td>\n",
       "      <td>False</td>\n",
       "      <td>354500.0</td>\n",
       "      <td>NaN</td>\n",
       "      <td>Very Positive</td>\n",
       "      <td>NaN</td>\n",
       "      <td>354500</td>\n",
       "    </tr>\n",
       "  </tbody>\n",
       "</table>\n",
       "</div>"
      ],
      "text/plain": [
       "       Unnamed: 0 publisher genres                app_name  \\\n",
       "27178       27178       NaN    NaN  PAYDAY: The Web Series   \n",
       "\n",
       "                        title  \\\n",
       "27178  PAYDAY: The Web Series   \n",
       "\n",
       "                                                     url release_date  \\\n",
       "27178  http://store.steampowered.com/app/354500/PAYDA...   2015-03-10   \n",
       "\n",
       "                                                    tags  discount_price  \\\n",
       "27178  ['Action', 'Heist', 'Violent', 'Free to Play',...             NaN   \n",
       "\n",
       "                                             reviews_url specs price  \\\n",
       "27178  http://steamcommunity.com/app/354500/reviews/?...   NaN  Free   \n",
       "\n",
       "       early_access        id developer      sentiment  metascore product_id  \n",
       "27178         False  354500.0       NaN  Very Positive        NaN     354500  "
      ]
     },
     "execution_count": 152,
     "metadata": {},
     "output_type": "execute_result"
    }
   ],
   "source": [
    "# get game information based on recommendations\n",
    "\n",
    "df_games[df_games['product_id'] == recs[0][0]]"
   ]
  },
  {
   "cell_type": "code",
   "execution_count": 137,
   "metadata": {},
   "outputs": [
    {
     "data": {
      "text/plain": [
       "0        761140.0\n",
       "1        643980.0\n",
       "2        670290.0\n",
       "3        767400.0\n",
       "4        773570.0\n",
       "           ...   \n",
       "32130    773640.0\n",
       "32131    733530.0\n",
       "32132    610660.0\n",
       "32133    658870.0\n",
       "32134    681550.0\n",
       "Name: product_id, Length: 32135, dtype: object"
      ]
     },
     "execution_count": 137,
     "metadata": {},
     "output_type": "execute_result"
    }
   ],
   "source": [
    "df_games['product_id']"
   ]
  },
  {
   "cell_type": "code",
   "execution_count": 150,
   "metadata": {},
   "outputs": [
    {
     "data": {
      "text/plain": [
       "(250000, 7)"
      ]
     },
     "execution_count": 150,
     "metadata": {},
     "output_type": "execute_result"
    }
   ],
   "source": []
  },
  {
   "cell_type": "markdown",
   "metadata": {},
   "source": [
    "## Findings - Model_1\n",
    "    \n",
    "    using non-aggregated text returns only a singular review, instead of the most similar review among the whole Tag\n",
    "    \n",
    "    must return to using aggregated reviews"
   ]
  },
  {
   "cell_type": "markdown",
   "metadata": {},
   "source": [
    "# Prep for Model 2"
   ]
  },
  {
   "cell_type": "code",
   "execution_count": 101,
   "metadata": {},
   "outputs": [],
   "source": [
    "testdict = {440:'the most popular game',\n",
    "           26: 'this is my bday',\n",
    "           1492: 'columbus sailed the ocean blue',\n",
    "           87: 'four score and seven years ago'}"
   ]
  },
  {
   "cell_type": "code",
   "execution_count": 109,
   "metadata": {},
   "outputs": [
    {
     "data": {
      "text/plain": [
       "[440, 26, 1492, 87]"
      ]
     },
     "execution_count": 109,
     "metadata": {},
     "output_type": "execute_result"
    }
   ],
   "source": [
    "list(testdict.keys())"
   ]
  },
  {
   "cell_type": "code",
   "execution_count": 124,
   "metadata": {},
   "outputs": [
    {
     "data": {
      "text/plain": [
       "['the most popular game',\n",
       " 'this is my bday',\n",
       " 'columbus sailed the ocean blue',\n",
       " 'four score and seven years ago']"
      ]
     },
     "execution_count": 124,
     "metadata": {},
     "output_type": "execute_result"
    }
   ],
   "source": [
    "list(testdict.values())"
   ]
  },
  {
   "cell_type": "code",
   "execution_count": 110,
   "metadata": {},
   "outputs": [],
   "source": [
    "testdf = pd.DataFrame()"
   ]
  },
  {
   "cell_type": "code",
   "execution_count": 131,
   "metadata": {},
   "outputs": [],
   "source": [
    "testdf['product_id'] = list(testdict.keys())\n",
    "testdf['reviews'] = list(testdict.values())"
   ]
  },
  {
   "cell_type": "code",
   "execution_count": 132,
   "metadata": {},
   "outputs": [
    {
     "data": {
      "text/plain": [
       "product_id     int64\n",
       "reviews       object\n",
       "dtype: object"
      ]
     },
     "execution_count": 132,
     "metadata": {},
     "output_type": "execute_result"
    }
   ],
   "source": [
    "testdf.dtypes"
   ]
  },
  {
   "cell_type": "code",
   "execution_count": 126,
   "metadata": {},
   "outputs": [],
   "source": [
    "testdf['product_id'] = testdf['product_id'].apply(str)"
   ]
  },
  {
   "cell_type": "code",
   "execution_count": 127,
   "metadata": {},
   "outputs": [
    {
     "data": {
      "text/plain": [
       "0     440\n",
       "1      26\n",
       "2    1492\n",
       "3      87\n",
       "Name: product_id, dtype: object"
      ]
     },
     "execution_count": 127,
     "metadata": {},
     "output_type": "execute_result"
    }
   ],
   "source": [
    "testdf['product_id']"
   ]
  },
  {
   "cell_type": "code",
   "execution_count": 151,
   "metadata": {},
   "outputs": [
    {
     "data": {
      "text/plain": [
       "dict"
      ]
     },
     "execution_count": 151,
     "metadata": {},
     "output_type": "execute_result"
    }
   ],
   "source": [
    "# code loads the aggregated reviews of the full 7 million reviews\n",
    "\n",
    "# with open('agg_reviews.p', 'rb') as fp:\n",
    "#     loaded_file = pickle.load(fp)"
   ]
  },
  {
   "cell_type": "markdown",
   "metadata": {},
   "source": [
    "## Need to reduce aggregate data size\n",
    "    creating new aggregated data based on the sample dataframe"
   ]
  },
  {
   "cell_type": "code",
   "execution_count": 6,
   "metadata": {},
   "outputs": [],
   "source": [
    "with open('subsample_agg_reviews.p', 'rb') as fp:\n",
    "    loaded_file = pickle.load(fp)"
   ]
  },
  {
   "cell_type": "code",
   "execution_count": 7,
   "metadata": {},
   "outputs": [],
   "source": [
    "agg_df = pd.DataFrame()"
   ]
  },
  {
   "cell_type": "code",
   "execution_count": 8,
   "metadata": {},
   "outputs": [],
   "source": [
    "agg_df['product_id'] = list(loaded_file.keys())\n",
    "agg_df['reviews'] = list(loaded_file.values())"
   ]
  },
  {
   "cell_type": "markdown",
   "metadata": {},
   "source": [
    "# Model_2"
   ]
  },
  {
   "cell_type": "code",
   "execution_count": 9,
   "metadata": {},
   "outputs": [],
   "source": [
    "tagged_docs = agg_df.apply(\n",
    "    lambda r: TaggedDocument(words=tokenize_text(r['reviews']), tags=[r['product_id']]), axis=1)"
   ]
  },
  {
   "cell_type": "code",
   "execution_count": 10,
   "metadata": {},
   "outputs": [
    {
     "name": "stderr",
     "output_type": "stream",
     "text": [
      "100%|██████████| 1996/1996 [00:00<00:00, 524550.80it/s]\n"
     ]
    }
   ],
   "source": [
    "model2 = Doc2Vec(dm=0, vector_size=300, negative=5, hs=0, min_count=2, sample = 0, workers=cores)\n",
    "model2.build_vocab([x for x in tqdm(tagged_docs.values)])"
   ]
  },
  {
   "cell_type": "code",
   "execution_count": 11,
   "metadata": {},
   "outputs": [],
   "source": [
    "model2.train(tagged_docs, total_examples=len(tagged_docs), epochs=30)"
   ]
  },
  {
   "cell_type": "code",
   "execution_count": 25,
   "metadata": {},
   "outputs": [
    {
     "name": "stderr",
     "output_type": "stream",
     "text": [
      "/Users/kyledecember1/opt/anaconda3/envs/learn-env/lib/python3.6/site-packages/smart_open/smart_open_lib.py:398: UserWarning: This function is deprecated, use smart_open.open instead. See the migration notes for details: https://github.com/RaRe-Technologies/smart_open/blob/master/README.rst#migrating-to-the-new-open-function\n",
      "  'See the migration notes for details: %s' % _MIGRATION_NOTES_URL\n"
     ]
    }
   ],
   "source": [
    "model2.save('model2.d2v')"
   ]
  },
  {
   "cell_type": "code",
   "execution_count": 12,
   "metadata": {},
   "outputs": [],
   "source": [
    "sent2 = 'epic fast paced shooter game, that allows me to customize my character and play with friends'\n",
    "tokes2 = sent2.split(' ')\n",
    "sent_vec2 = model2.infer_vector(tokes2)"
   ]
  },
  {
   "cell_type": "code",
   "execution_count": 13,
   "metadata": {},
   "outputs": [],
   "source": [
    "recs2 = model2.docvecs.most_similar([sent_vec2])"
   ]
  },
  {
   "cell_type": "code",
   "execution_count": 14,
   "metadata": {},
   "outputs": [
    {
     "data": {
      "text/plain": [
       "[('354500', 0.6271480917930603),\n",
       " ('413850', 0.6216908693313599),\n",
       " ('510050', 0.4521377682685852),\n",
       " ('546390', 0.44616881012916565),\n",
       " ('250600', 0.4367648661136627)]"
      ]
     },
     "execution_count": 14,
     "metadata": {},
     "output_type": "execute_result"
    }
   ],
   "source": [
    "recs2[:5]"
   ]
  },
  {
   "cell_type": "code",
   "execution_count": 21,
   "metadata": {},
   "outputs": [
    {
     "data": {
      "text/html": [
       "<div>\n",
       "<style scoped>\n",
       "    .dataframe tbody tr th:only-of-type {\n",
       "        vertical-align: middle;\n",
       "    }\n",
       "\n",
       "    .dataframe tbody tr th {\n",
       "        vertical-align: top;\n",
       "    }\n",
       "\n",
       "    .dataframe thead th {\n",
       "        text-align: right;\n",
       "    }\n",
       "</style>\n",
       "<table border=\"1\" class=\"dataframe\">\n",
       "  <thead>\n",
       "    <tr style=\"text-align: right;\">\n",
       "      <th></th>\n",
       "      <th>Unnamed: 0</th>\n",
       "      <th>publisher</th>\n",
       "      <th>genres</th>\n",
       "      <th>app_name</th>\n",
       "      <th>title</th>\n",
       "      <th>url</th>\n",
       "      <th>release_date</th>\n",
       "      <th>tags</th>\n",
       "      <th>discount_price</th>\n",
       "      <th>reviews_url</th>\n",
       "      <th>specs</th>\n",
       "      <th>price</th>\n",
       "      <th>early_access</th>\n",
       "      <th>id</th>\n",
       "      <th>developer</th>\n",
       "      <th>sentiment</th>\n",
       "      <th>metascore</th>\n",
       "      <th>product_id</th>\n",
       "    </tr>\n",
       "  </thead>\n",
       "  <tbody>\n",
       "    <tr>\n",
       "      <td>4622</td>\n",
       "      <td>4622</td>\n",
       "      <td>NaN</td>\n",
       "      <td>NaN</td>\n",
       "      <td>CS:GO Player Profiles</td>\n",
       "      <td>CS:GO Player Profiles</td>\n",
       "      <td>http://store.steampowered.com/app/413850/CSGO_...</td>\n",
       "      <td>2015-10-26</td>\n",
       "      <td>['Free to Play', 'FPS', 'Gaming', 'Shooter', '...</td>\n",
       "      <td>NaN</td>\n",
       "      <td>http://steamcommunity.com/app/413850/reviews/?...</td>\n",
       "      <td>NaN</td>\n",
       "      <td>Free</td>\n",
       "      <td>False</td>\n",
       "      <td>413850.0</td>\n",
       "      <td>NaN</td>\n",
       "      <td>Very Positive</td>\n",
       "      <td>NaN</td>\n",
       "      <td>413850</td>\n",
       "    </tr>\n",
       "  </tbody>\n",
       "</table>\n",
       "</div>"
      ],
      "text/plain": [
       "      Unnamed: 0 publisher genres               app_name  \\\n",
       "4622        4622       NaN    NaN  CS:GO Player Profiles   \n",
       "\n",
       "                      title  \\\n",
       "4622  CS:GO Player Profiles   \n",
       "\n",
       "                                                    url release_date  \\\n",
       "4622  http://store.steampowered.com/app/413850/CSGO_...   2015-10-26   \n",
       "\n",
       "                                                   tags  discount_price  \\\n",
       "4622  ['Free to Play', 'FPS', 'Gaming', 'Shooter', '...             NaN   \n",
       "\n",
       "                                            reviews_url specs price  \\\n",
       "4622  http://steamcommunity.com/app/413850/reviews/?...   NaN  Free   \n",
       "\n",
       "      early_access        id developer      sentiment  metascore product_id  \n",
       "4622         False  413850.0       NaN  Very Positive        NaN     413850  "
      ]
     },
     "execution_count": 21,
     "metadata": {},
     "output_type": "execute_result"
    }
   ],
   "source": [
    "df_games[df_games['product_id'] == recs2[0][0]]"
   ]
  },
  {
   "cell_type": "code",
   "execution_count": 22,
   "metadata": {},
   "outputs": [
    {
     "data": {
      "text/plain": [
       "'413850'"
      ]
     },
     "execution_count": 22,
     "metadata": {},
     "output_type": "execute_result"
    }
   ],
   "source": [
    "recs2[0][0]"
   ]
  },
  {
   "cell_type": "code",
   "execution_count": 15,
   "metadata": {},
   "outputs": [],
   "source": [
    "def get_recs(model, user_input, n=5):\n",
    "    description = user_input.split(' ')\n",
    "    desc_vec = model.infer_vector(description)\n",
    "    recs = model.docvecs.most_similar([desc_vec])[:n]\n",
    "    \n",
    "    return recs\n",
    "\n",
    "def show_game_desc(recs, df):\n",
    "    games = {}\n",
    "    for rec in recs:\n",
    "        games[rec[0]] = df[df['product_id'] == rec[0]]['title']\n",
    "        \n",
    "    return games"
   ]
  },
  {
   "cell_type": "markdown",
   "metadata": {},
   "source": [
    "## Manual Cross Validation"
   ]
  },
  {
   "cell_type": "code",
   "execution_count": 34,
   "metadata": {},
   "outputs": [],
   "source": [
    "test_sent1 = \"\"\"\n",
    "an intense and fast paced rpg that allows me to customize my character and defeat my enemies \n",
    "using sorcery and weapons\"\"\"\n",
    "\n",
    "test_sent2 = \"\"\"\n",
    "fluffy animals and shiny colors, game that helps to educate children in basic math and reasoning skills\n",
    "\"\"\"\n",
    "\n",
    "test_sent3 = \"\"\"\n",
    "dragons and monsters fight to the death, extremely unforgiving combat, difficult as dark souls\n",
    "\"\"\"\n",
    "\n",
    "test_sent4 = \"\"\"\n",
    "similar to age of empires, where i build my kingdom from the ground up, form alliances and engage in intrigue,\n",
    "research technological advancements and stand the test of time\n",
    "\"\"\"\n",
    "\n",
    "test_sent5 = \"\"\"\n",
    "turn based strategy game with the complexity of Civilization 5, but where I can also control an individual \n",
    "unit within combat\n",
    "\"\"\""
   ]
  },
  {
   "cell_type": "code",
   "execution_count": 23,
   "metadata": {},
   "outputs": [],
   "source": [
    "recs3 = get_recs(model2, sent3)"
   ]
  },
  {
   "cell_type": "code",
   "execution_count": 24,
   "metadata": {},
   "outputs": [
    {
     "data": {
      "text/plain": [
       "{'413850': 4622    CS:GO Player Profiles\n",
       " Name: title, dtype: object, '354500': 27178    PAYDAY: The Web Series\n",
       " Name: title, dtype: object, '250600': 1909    The Plan\n",
       " Name: title, dtype: object, '283640': 6184    Salt and Sanctuary\n",
       " Name: title, dtype: object, '345180': 4059    Victor Vran ARPG\n",
       " Name: title, dtype: object}"
      ]
     },
     "execution_count": 24,
     "metadata": {},
     "output_type": "execute_result"
    }
   ],
   "source": [
    "show_game_desc(recs3, df_games)"
   ]
  },
  {
   "cell_type": "code",
   "execution_count": 35,
   "metadata": {},
   "outputs": [],
   "source": [
    "all_sents = [test_sent1, test_sent2, test_sent3, test_sent4, test_sent5]"
   ]
  },
  {
   "cell_type": "code",
   "execution_count": 27,
   "metadata": {},
   "outputs": [
    {
     "data": {
      "text/plain": [
       "{'354500': 27178    PAYDAY: The Web Series\n",
       " Name: title, dtype: object, '413850': 4622    CS:GO Player Profiles\n",
       " Name: title, dtype: object, '250600': 1909    The Plan\n",
       " Name: title, dtype: object, '243950': 1510    Divinity: Dragon Commander\n",
       " Name: title, dtype: object, '346250': 27536    The Old Tree\n",
       " Name: title, dtype: object}"
      ]
     },
     "execution_count": 27,
     "metadata": {},
     "output_type": "execute_result"
    }
   ],
   "source": [
    "show_game_desc(get_recs(model2, test_sent2), df_games)"
   ]
  },
  {
   "cell_type": "code",
   "execution_count": 28,
   "metadata": {},
   "outputs": [
    {
     "data": {
      "text/plain": [
       "{'205190': 1140    Rocksmith™\n",
       " Name: title, dtype: object, '47400': 30944    Stronghold 3 Gold\n",
       " Name: title, dtype: object, '285310': 29018    RollerCoaster Tycoon®: Deluxe\n",
       " Name: title, dtype: object, '49470': 660    Magic: The Gathering - Duels of the Planeswalk...\n",
       " Name: title, dtype: object, '55230': 31113    Saints Row: The Third\n",
       " Name: title, dtype: object}"
      ]
     },
     "execution_count": 28,
     "metadata": {},
     "output_type": "execute_result"
    }
   ],
   "source": [
    "show_game_desc(get_recs(model2, test_sent3), df_games)"
   ]
  },
  {
   "cell_type": "code",
   "execution_count": 36,
   "metadata": {},
   "outputs": [
    {
     "name": "stdout",
     "output_type": "stream",
     "text": [
      "\n",
      "an intense and fast paced rpg that allows me to customize my character and defeat my enemies \n",
      "using sorcery and weapons {'413850': 4622    CS:GO Player Profiles\n",
      "Name: title, dtype: object, '354500': 27178    PAYDAY: The Web Series\n",
      "Name: title, dtype: object, '250600': 1909    The Plan\n",
      "Name: title, dtype: object, '283640': 6184    Salt and Sanctuary\n",
      "Name: title, dtype: object, '387860': 4139    the static speaks my name\n",
      "Name: title, dtype: object}\n",
      "\n",
      "includes strategic and action-packed combat, i want to customize both my character and my kingdom\n",
      "while conquering my enemies through intrigue\n",
      " {'354500': 27178    PAYDAY: The Web Series\n",
      "Name: title, dtype: object, '413850': 4622    CS:GO Player Profiles\n",
      "Name: title, dtype: object, '250600': 1909    The Plan\n",
      "Name: title, dtype: object, '243950': 1510    Divinity: Dragon Commander\n",
      "Name: title, dtype: object, '346250': 27536    The Old Tree\n",
      "Name: title, dtype: object}\n",
      "\n",
      "dragons and monsters fight to the death, extremely unforgiving combat, difficult as dark souls\n",
      " {'354500': 27178    PAYDAY: The Web Series\n",
      "Name: title, dtype: object, '413850': 4622    CS:GO Player Profiles\n",
      "Name: title, dtype: object, '387860': 4139    the static speaks my name\n",
      "Name: title, dtype: object, '250600': 1909    The Plan\n",
      "Name: title, dtype: object, '346250': 27536    The Old Tree\n",
      "Name: title, dtype: object}\n",
      "\n",
      "similar to age of empires, where i build my kingdom from the ground up, form alliances and engage in intrigue,\n",
      "research technological advancements and stand the test of time\n",
      " {'354500': 27178    PAYDAY: The Web Series\n",
      "Name: title, dtype: object, '413850': 4622    CS:GO Player Profiles\n",
      "Name: title, dtype: object, '333420': 21462    Cossacks 3\n",
      "Name: title, dtype: object, '32470': 31457    STAR WARS™ Empire at War - Gold Pack\n",
      "Name: title, dtype: object, '250600': 1909    The Plan\n",
      "Name: title, dtype: object}\n",
      "\n",
      "turn based strategy game with the complexity of Civilization 5, but where I can also control an individual \n",
      "unit within combat\n",
      " {'354500': 27178    PAYDAY: The Web Series\n",
      "Name: title, dtype: object, '413850': 4622    CS:GO Player Profiles\n",
      "Name: title, dtype: object, '346250': 27536    The Old Tree\n",
      "Name: title, dtype: object, '250600': 1909    The Plan\n",
      "Name: title, dtype: object, '560260': 19972    Super Blue Boy Planet\n",
      "Name: title, dtype: object}\n"
     ]
    }
   ],
   "source": [
    "for sent in all_sents:\n",
    "    print(sent, show_game_desc(get_recs(model2, sent), df_games))"
   ]
  },
  {
   "cell_type": "markdown",
   "metadata": {},
   "source": []
  }
 ],
 "metadata": {
  "kernelspec": {
   "display_name": "learn-env",
   "language": "python",
   "name": "learn-env"
  },
  "language_info": {
   "codemirror_mode": {
    "name": "ipython",
    "version": 3
   },
   "file_extension": ".py",
   "mimetype": "text/x-python",
   "name": "python",
   "nbconvert_exporter": "python",
   "pygments_lexer": "ipython3",
   "version": "3.6.9"
  }
 },
 "nbformat": 4,
 "nbformat_minor": 4
}
