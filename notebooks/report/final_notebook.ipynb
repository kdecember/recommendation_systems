{
 "cells": [
  {
   "cell_type": "markdown",
   "metadata": {},
   "source": [
    "## !!Before Running This Notebook!!"
   ]
  },
  {
   "cell_type": "markdown",
   "metadata": {},
   "source": [
    "go to the /data/ section of this repo and review the [README](../../data/readme.md), as well as the [notebook](../../data/data_creation.ipynb) located there"
   ]
  },
  {
   "cell_type": "markdown",
   "metadata": {},
   "source": [
    "## Necessary Imports"
   ]
  },
  {
   "cell_type": "code",
   "execution_count": 16,
   "metadata": {},
   "outputs": [
    {
     "name": "stderr",
     "output_type": "stream",
     "text": [
      "[nltk_data] Downloading package words to\n",
      "[nltk_data]     /Users/kyledecember1/nltk_data...\n",
      "[nltk_data]   Package words is already up-to-date!\n",
      "[nltk_data] Downloading package punkt to\n",
      "[nltk_data]     /Users/kyledecember1/nltk_data...\n",
      "[nltk_data]   Package punkt is already up-to-date!\n"
     ]
    },
    {
     "data": {
      "text/plain": [
       "True"
      ]
     },
     "execution_count": 16,
     "metadata": {},
     "output_type": "execute_result"
    }
   ],
   "source": [
    "import pandas as pd\n",
    "import numpy as np\n",
    "import gzip\n",
    "import json\n",
    "import re\n",
    "import os\n",
    "import pickle\n",
    "import nltk\n",
    "import re\n",
    "import multiprocessing\n",
    "\n",
    "from nltk.corpus import stopwords\n",
    "\n",
    "nltk.download('words')\n",
    "nltk.download('punkt')"
   ]
  },
  {
   "cell_type": "code",
   "execution_count": 2,
   "metadata": {},
   "outputs": [],
   "source": [
    "from tqdm import tqdm\n",
    "from gensim.models import Doc2Vec\n",
    "from sklearn import utils\n",
    "from sklearn.model_selection import train_test_split\n",
    "import gensim\n",
    "from sklearn.linear_model import LogisticRegression\n",
    "from gensim.models.doc2vec import TaggedDocument\n",
    "from sklearn.metrics import accuracy_score, f1_score\n",
    "\n",
    "import seaborn as sns\n",
    "import matplotlib.pyplot as plt"
   ]
  },
  {
   "cell_type": "markdown",
   "metadata": {},
   "source": [
    "## Custom Functions"
   ]
  },
  {
   "cell_type": "code",
   "execution_count": 32,
   "metadata": {},
   "outputs": [],
   "source": [
    "def tokenize_text(text):\n",
    "    \"\"\"\n",
    "    tokenizes text to be used in Doc2Vec modeling\n",
    "    \"\"\"\n",
    "    \n",
    "    tokens = []\n",
    "    for sent in nltk.sent_tokenize(text):\n",
    "        for word in nltk.word_tokenize(sent):\n",
    "            if len(word) < 2:\n",
    "                continue\n",
    "            tokens.append(word.lower())\n",
    "    return tokens\n",
    "\n",
    "def get_recs(model, user_input, n=5):\n",
    "    \"\"\"\n",
    "    returns n-recommendations based on user input, where the input is the description of their\n",
    "    ideal game, default is set to 5\n",
    "    \"\"\"\n",
    "    \n",
    "    description = user_input.split(' ')\n",
    "    desc_vec = model.infer_vector(description)\n",
    "    recs = model.docvecs.most_similar([desc_vec])[:n]\n",
    "    return recs\n",
    "\n",
    "def show_game_desc(recs, df):\n",
    "    \"\"\"\n",
    "    provides the titles of the games recommended by get_recs\n",
    "    \"\"\"\n",
    "    \n",
    "    games = {}\n",
    "    for rec in recs:\n",
    "        games[rec[0]] = df[df['product_id'] == rec[0]]['title']\n",
    "    return games\n",
    "\n",
    "def score(evals, n=25):\n",
    "    \"\"\"\n",
    "    calculate the score of the given model\n",
    "    \"\"\"\n",
    "    \n",
    "    return sum(sum(evals)) / 25"
   ]
  },
  {
   "cell_type": "markdown",
   "metadata": {},
   "source": [
    "## Import  Data"
   ]
  },
  {
   "cell_type": "code",
   "execution_count": 4,
   "metadata": {},
   "outputs": [],
   "source": [
    "#assign data filepaths to variables\n",
    "games_path = os.path.join(os.pardir, os.pardir, 'data/games.csv')\n",
    "reviews_path = os.path.join(os.pardir, os.pardir, 'data/subsample_agg_reviews.p')"
   ]
  },
  {
   "cell_type": "code",
   "execution_count": 5,
   "metadata": {},
   "outputs": [],
   "source": [
    "#import df_games \n",
    "df_games = pd.read_csv(games_path)\n",
    "\n",
    "#drop null values\n",
    "df_games['id'].dropna(inplace=True)\n",
    "\n",
    "# create product_id column in df_games, based on str-formatted id column\n",
    "df_games['product_id'] = df_games['id'].astype(int).astype(str)"
   ]
  },
  {
   "cell_type": "code",
   "execution_count": 6,
   "metadata": {},
   "outputs": [],
   "source": [
    "# initiate the aggregated dataframe\n",
    "agg_df = pd.DataFrame()\n",
    "\n",
    "# import the aggregated data from the pickled file\n",
    "with open(reviews_path, 'rb') as fp:\n",
    "    loaded_file = pickle.load(fp)\n",
    "    \n",
    "# create columns based on the keys and values of the dictionary\n",
    "agg_df['product_id'] = list(loaded_file.keys())\n",
    "agg_df['reviews'] = list(loaded_file.values())"
   ]
  },
  {
   "cell_type": "markdown",
   "metadata": {},
   "source": [
    "    this cell will take several minutes to run"
   ]
  },
  {
   "cell_type": "code",
   "execution_count": 8,
   "metadata": {},
   "outputs": [],
   "source": [
    "# creating tagged documents for Doc2Vec\n",
    "tagged_docs = agg_df.apply(\n",
    "    lambda r: TaggedDocument(words=tokenize_text(r['reviews']), tags=[r['product_id']]), axis=1)"
   ]
  },
  {
   "cell_type": "code",
   "execution_count": null,
   "metadata": {},
   "outputs": [],
   "source": [
    "# cores allows the Doc2Vec to train faster with all your processing units\n",
    "cores = multiprocessing.cpu_count()"
   ]
  },
  {
   "cell_type": "code",
   "execution_count": 11,
   "metadata": {},
   "outputs": [],
   "source": [
    "# create 5 test descriptions\n",
    "\n",
    "test_sent1 = \"\"\"\n",
    "an intense and fast paced rpg that allows me to customize my character and defeat my enemies \n",
    "using sorcery and weapons\"\"\"\n",
    "\n",
    "test_sent2 = \"\"\"\n",
    "fluffy animals and shiny colors, game that helps to educate children in basic math and reasoning skills\n",
    "\"\"\"\n",
    "\n",
    "test_sent3 = \"\"\"\n",
    "dragons and monsters fight to the death, extremely unforgiving combat, difficult as dark souls\n",
    "\"\"\"\n",
    "\n",
    "test_sent4 = \"\"\"\n",
    "similar to age of empires, where i build my kingdom from the ground up, form alliances and engage in intrigue,\n",
    "research technological advancements and stand the test of time\n",
    "\"\"\"\n",
    "\n",
    "test_sent5 = \"\"\"\n",
    "turn based strategy game with the complexity of Civilization 5, but where I can also control an individual \n",
    "unit within combat\n",
    "\"\"\"\n",
    "\n",
    "\n",
    "all_sents = [test_sent1, test_sent2, test_sent3, test_sent4, test_sent5]"
   ]
  },
  {
   "cell_type": "markdown",
   "metadata": {},
   "source": [
    "## Modeling & Evaluation\n",
    "\n",
    "    Please note the subjective nature of the evaluation process; without a focus group it was impossible to obtain information on whether or not the recommendations were relevant to the user. Instead, 5 unique game descriptions were provided and evaluation was performed through research.\n",
    "    \n",
    "    Evaluation was performed by reviewing the descriptions of the games provided, and determining if they matched key words in the descriptions. Ultimately, each model was given a Relevance Score, which is simply the percentage of recommendations that were determined to be relevant."
   ]
  },
  {
   "cell_type": "markdown",
   "metadata": {},
   "source": [
    "## Model 1"
   ]
  },
  {
   "cell_type": "code",
   "execution_count": 12,
   "metadata": {},
   "outputs": [
    {
     "name": "stderr",
     "output_type": "stream",
     "text": [
      "100%|██████████| 1996/1996 [00:00<00:00, 521154.80it/s]\n"
     ]
    }
   ],
   "source": [
    "model_1 = Doc2Vec(dm=0, vector_size=300, negative=5, hs=0, min_count=2, sample = 0, workers=cores)\n",
    "model_1.build_vocab([x for x in tqdm(tagged_docs.values)])"
   ]
  },
  {
   "cell_type": "code",
   "execution_count": 13,
   "metadata": {},
   "outputs": [],
   "source": [
    "model_1.train(tagged_docs, total_examples=len(tagged_docs), epochs=30)"
   ]
  },
  {
   "cell_type": "code",
   "execution_count": 14,
   "metadata": {},
   "outputs": [
    {
     "name": "stdout",
     "output_type": "stream",
     "text": [
      "\n",
      "an intense and fast paced rpg that allows me to customize my character and defeat my enemies \n",
      "using sorcery and weapons {'354500': 27178    PAYDAY: The Web Series\n",
      "Name: title, dtype: object, '413850': 4622    CS:GO Player Profiles\n",
      "Name: title, dtype: object, '250600': 1909    The Plan\n",
      "Name: title, dtype: object, '283640': 6184    Salt and Sanctuary\n",
      "Name: title, dtype: object, '546390': 20467    Brief Karate Foolish\n",
      "Name: title, dtype: object}\n",
      "\n",
      "fluffy animals and shiny colors, game that helps to educate children in basic math and reasoning skills\n",
      " {'354500': 27178    PAYDAY: The Web Series\n",
      "Name: title, dtype: object, '413850': 4622    CS:GO Player Profiles\n",
      "Name: title, dtype: object, '346250': 27536    The Old Tree\n",
      "Name: title, dtype: object, '359390': 25763    Amnesia™: Memories\n",
      "Name: title, dtype: object, '353560': 27222    Plug &amp; Play\n",
      "Name: title, dtype: object}\n",
      "\n",
      "dragons and monsters fight to the death, extremely unforgiving combat, difficult as dark souls\n",
      " {'354500': 27178    PAYDAY: The Web Series\n",
      "Name: title, dtype: object, '413850': 4622    CS:GO Player Profiles\n",
      "Name: title, dtype: object, '250600': 1909    The Plan\n",
      "Name: title, dtype: object, '346250': 27536    The Old Tree\n",
      "Name: title, dtype: object, '387860': 4139    the static speaks my name\n",
      "Name: title, dtype: object}\n",
      "\n",
      "similar to age of empires, where i build my kingdom from the ground up, form alliances and engage in intrigue,\n",
      "research technological advancements and stand the test of time\n",
      " {'354500': 27178    PAYDAY: The Web Series\n",
      "Name: title, dtype: object, '413850': 4622    CS:GO Player Profiles\n",
      "Name: title, dtype: object, '32470': 31457    STAR WARS™ Empire at War - Gold Pack\n",
      "Name: title, dtype: object, '250600': 1909    The Plan\n",
      "Name: title, dtype: object, '333420': 21462    Cossacks 3\n",
      "Name: title, dtype: object}\n",
      "\n",
      "turn based strategy game with the complexity of Civilization 5, but where I can also control an individual \n",
      "unit within combat\n",
      " {'354500': 27178    PAYDAY: The Web Series\n",
      "Name: title, dtype: object, '413850': 4622    CS:GO Player Profiles\n",
      "Name: title, dtype: object, '346250': 27536    The Old Tree\n",
      "Name: title, dtype: object, '250600': 1909    The Plan\n",
      "Name: title, dtype: object, '61700': 31151    Might &amp; Magic: Clash of Heroes\n",
      "Name: title, dtype: object}\n"
     ]
    }
   ],
   "source": [
    "for sent in all_sents:\n",
    "    print(sent, show_game_desc(get_recs(model_1, sent), df_games))"
   ]
  },
  {
   "cell_type": "markdown",
   "metadata": {},
   "source": [
    "### Evaluation"
   ]
  },
  {
   "cell_type": "code",
   "execution_count": 25,
   "metadata": {},
   "outputs": [],
   "source": [
    "evals_1 = np.array([[0,0,0,1,0],\n",
    "                    [0,0,0,0,0], \n",
    "                    [0,0,0,0,0], \n",
    "                    [0,0,1,0,1],\n",
    "                    [0,0,0,0,1]])"
   ]
  },
  {
   "cell_type": "code",
   "execution_count": 34,
   "metadata": {},
   "outputs": [
    {
     "data": {
      "text/plain": [
       "0.16"
      ]
     },
     "execution_count": 34,
     "metadata": {},
     "output_type": "execute_result"
    }
   ],
   "source": [
    "score_model_1 = score(evals_1)\n",
    "score_model_1"
   ]
  },
  {
   "cell_type": "markdown",
   "metadata": {},
   "source": [
    "## Model 2"
   ]
  },
  {
   "cell_type": "code",
   "execution_count": 40,
   "metadata": {},
   "outputs": [
    {
     "name": "stderr",
     "output_type": "stream",
     "text": [
      "100%|██████████| 1996/1996 [00:00<00:00, 1198887.41it/s]\n"
     ]
    }
   ],
   "source": [
    "model_2 = Doc2Vec(dm=0, vector_size=300, negative=5, hs=0, min_count=2, sample = 0, workers=cores)\n",
    "model_2.build_vocab([x for x in tqdm(tagged_docs.values)])"
   ]
  },
  {
   "cell_type": "code",
   "execution_count": 41,
   "metadata": {},
   "outputs": [],
   "source": [
    "model_2.train(tagged_docs, total_examples=len(tagged_docs), epochs=50)"
   ]
  },
  {
   "cell_type": "code",
   "execution_count": 31,
   "metadata": {},
   "outputs": [
    {
     "name": "stdout",
     "output_type": "stream",
     "text": [
      "\n",
      "an intense and fast paced rpg that allows me to customize my character and defeat my enemies \n",
      "using sorcery and weapons {'283640': 6184    Salt and Sanctuary\n",
      "Name: title, dtype: object, '413850': 4622    CS:GO Player Profiles\n",
      "Name: title, dtype: object, '386360': 4339    SMITE®\n",
      "Name: title, dtype: object, '250600': 1909    The Plan\n",
      "Name: title, dtype: object, '354500': 27178    PAYDAY: The Web Series\n",
      "Name: title, dtype: object}\n",
      "\n",
      "fluffy animals and shiny colors, game that helps to educate children in basic math and reasoning skills\n",
      " {'354500': 27178    PAYDAY: The Web Series\n",
      "Name: title, dtype: object, '203770': 855    Crusader Kings II\n",
      "Name: title, dtype: object, '270170': 28508    Depression Quest\n",
      "Name: title, dtype: object, '413850': 4622    CS:GO Player Profiles\n",
      "Name: title, dtype: object, '346250': 27536    The Old Tree\n",
      "Name: title, dtype: object}\n",
      "\n",
      "dragons and monsters fight to the death, extremely unforgiving combat, difficult as dark souls\n",
      " {'413850': 4622    CS:GO Player Profiles\n",
      "Name: title, dtype: object, '354500': 27178    PAYDAY: The Web Series\n",
      "Name: title, dtype: object, '387860': 4139    the static speaks my name\n",
      "Name: title, dtype: object, '346250': 27536    The Old Tree\n",
      "Name: title, dtype: object, '250600': 1909    The Plan\n",
      "Name: title, dtype: object}\n",
      "\n",
      "similar to age of empires, where i build my kingdom from the ground up, form alliances and engage in intrigue,\n",
      "research technological advancements and stand the test of time\n",
      " {'413850': 4622    CS:GO Player Profiles\n",
      "Name: title, dtype: object, '32470': 31457    STAR WARS™ Empire at War - Gold Pack\n",
      "Name: title, dtype: object, '435150': 15618    Divinity: Original Sin 2\n",
      "Name: title, dtype: object, '354500': 27178    PAYDAY: The Web Series\n",
      "Name: title, dtype: object, '373420': 4630    Divinity: Original Sin - Enhanced Edition\n",
      "Name: title, dtype: object}\n",
      "\n",
      "turn based strategy game with the complexity of Civilization 5, but where I can also control an individual \n",
      "unit within combat\n",
      " {'354500': 27178    PAYDAY: The Web Series\n",
      "Name: title, dtype: object, '413850': 4622    CS:GO Player Profiles\n",
      "Name: title, dtype: object, '346250': 27536    The Old Tree\n",
      "Name: title, dtype: object, '294860': 28047    Valkyria Chronicles™\n",
      "Name: title, dtype: object, '61700': 31151    Might &amp; Magic: Clash of Heroes\n",
      "Name: title, dtype: object}\n"
     ]
    }
   ],
   "source": [
    "for sent in all_sents:\n",
    "    print(sent, show_game_desc(get_recs(model_2, sent), df_games))"
   ]
  },
  {
   "cell_type": "markdown",
   "metadata": {},
   "source": [
    "### Evaluation"
   ]
  },
  {
   "cell_type": "code",
   "execution_count": 36,
   "metadata": {},
   "outputs": [],
   "source": [
    "evals_2 = np.array([[1,0,1,0,0],\n",
    "                    [0,0,0,0,0], \n",
    "                    [0,0,0,0,0], \n",
    "                    [0,1,0,0,0],\n",
    "                    [0,0,0,0,1]])"
   ]
  },
  {
   "cell_type": "code",
   "execution_count": 37,
   "metadata": {},
   "outputs": [
    {
     "data": {
      "text/plain": [
       "0.16"
      ]
     },
     "execution_count": 37,
     "metadata": {},
     "output_type": "execute_result"
    }
   ],
   "source": [
    "# provides percentage of recommendations that were relevant\n",
    "\n",
    "score_model_2 = score(evals_2)\n",
    "score_model_2"
   ]
  },
  {
   "cell_type": "markdown",
   "metadata": {},
   "source": [
    "## Model 3"
   ]
  },
  {
   "cell_type": "code",
   "execution_count": 42,
   "metadata": {},
   "outputs": [
    {
     "name": "stderr",
     "output_type": "stream",
     "text": [
      "100%|██████████| 1996/1996 [00:00<00:00, 710802.41it/s]\n"
     ]
    }
   ],
   "source": [
    "model_3 = Doc2Vec(dm=0, vector_size=300, negative=5, hs=0, min_count=2, sample = 0, workers=cores)\n",
    "model_3.build_vocab([x for x in tqdm(tagged_docs.values)])"
   ]
  },
  {
   "cell_type": "code",
   "execution_count": 43,
   "metadata": {},
   "outputs": [],
   "source": [
    "model_3.train(tagged_docs, total_examples=len(tagged_docs), epochs=100)"
   ]
  },
  {
   "cell_type": "code",
   "execution_count": 44,
   "metadata": {},
   "outputs": [
    {
     "name": "stdout",
     "output_type": "stream",
     "text": [
      "\n",
      "an intense and fast paced rpg that allows me to customize my character and defeat my enemies \n",
      "using sorcery and weapons {'283640': 6184    Salt and Sanctuary\n",
      "Name: title, dtype: object, '386360': 4339    SMITE®\n",
      "Name: title, dtype: object, '205100': 30712    Dishonored\n",
      "Name: title, dtype: object, '207140': 2983    SpeedRunners\n",
      "Name: title, dtype: object, '242680': 24732    Nuclear Throne\n",
      "Name: title, dtype: object}\n",
      "\n",
      "fluffy animals and shiny colors, game that helps to educate children in basic math and reasoning skills\n",
      " {'270170': 28508    Depression Quest\n",
      "Name: title, dtype: object, '203770': 855    Crusader Kings II\n",
      "Name: title, dtype: object, '529180': 16694    Dark and Light\n",
      "Name: title, dtype: object, '249130': 29889    LEGO® Marvel™ Super Heroes\n",
      "Name: title, dtype: object, '362680': 4275    Fran Bow\n",
      "Name: title, dtype: object}\n",
      "\n",
      "dragons and monsters fight to the death, extremely unforgiving combat, difficult as dark souls\n",
      " {'268910': 15273    Cuphead\n",
      "Name: title, dtype: object, '20920': 31023    The Witcher 2: Assassins of Kings Enhanced Edi...\n",
      "Name: title, dtype: object, '413850': 4622    CS:GO Player Profiles\n",
      "Name: title, dtype: object, '211260': 30796    They Bleed Pixels\n",
      "Name: title, dtype: object, '248820': 1710    Risk of Rain\n",
      "Name: title, dtype: object}\n",
      "\n",
      "similar to age of empires, where i build my kingdom from the ground up, form alliances and engage in intrigue,\n",
      "research technological advancements and stand the test of time\n",
      " {'333420': 21462    Cossacks 3\n",
      "Name: title, dtype: object, '413850': 4622    CS:GO Player Profiles\n",
      "Name: title, dtype: object, '435150': 15618    Divinity: Original Sin 2\n",
      "Name: title, dtype: object, '4760': 99    Rome: Total War™ - Collection\n",
      "Name: title, dtype: object, '8930': 494    Sid Meier's Civilization® V\n",
      "Name: title, dtype: object}\n",
      "\n",
      "turn based strategy game with the complexity of Civilization 5, but where I can also control an individual \n",
      "unit within combat\n",
      " {'354500': 27178    PAYDAY: The Web Series\n",
      "Name: title, dtype: object, '294860': 28047    Valkyria Chronicles™\n",
      "Name: title, dtype: object, '413850': 4622    CS:GO Player Profiles\n",
      "Name: title, dtype: object, '200510': 30735    XCOM: Enemy Unknown\n",
      "Name: title, dtype: object, '244450': 2179    Men of War: Assault Squad 2\n",
      "Name: title, dtype: object}\n"
     ]
    }
   ],
   "source": [
    "for sent in all_sents:\n",
    "    print(sent, show_game_desc(get_recs(model_3, sent), df_games))"
   ]
  },
  {
   "cell_type": "markdown",
   "metadata": {},
   "source": [
    "### Evaluation"
   ]
  },
  {
   "cell_type": "code",
   "execution_count": 45,
   "metadata": {},
   "outputs": [],
   "source": [
    "evals_3 = np.array([[1,1,1,0,1],\n",
    "                    [0,0,0,0,0], \n",
    "                    [0,1,0,1,0], \n",
    "                    [1,0,0,1,1],\n",
    "                    [0,0,0,1,0]])"
   ]
  },
  {
   "cell_type": "code",
   "execution_count": 47,
   "metadata": {},
   "outputs": [
    {
     "data": {
      "text/plain": [
       "0.4"
      ]
     },
     "execution_count": 47,
     "metadata": {},
     "output_type": "execute_result"
    }
   ],
   "source": [
    "# provides percentage of recommendations that were relevant\n",
    "\n",
    "score_model_3 = score(evals_3)\n",
    "score_model_3"
   ]
  },
  {
   "cell_type": "markdown",
   "metadata": {},
   "source": [
    "## Future Improvements "
   ]
  },
  {
   "cell_type": "markdown",
   "metadata": {},
   "source": [
    "Much of the innacurracy is coming from the recommendation of non-game materials; PAYDAY and CS:GO Player Profiles are both documentary series, which should never have been included in the data. There is no indicator in the Games dataframe that would serve to identify all of these instances, and therefore they cannot be automatically filtered from the data as it exists.\n",
    "\n",
    "The most notable way to improve the performance would be to scrape the information from Steam directly, so as to gather more information such as the \"About This Game\" section. However, due to a lack of technical proficiency and time, web scraping took a back seat on this iteration of the project. \n",
    "\n",
    "I would also like to try running models with a thousand or more Epochs, so that Doc2Vec has more time to properly understand the relevance of words, documents, and their contexts.\n",
    "\n",
    "Collaborative filtering would also be interesting. However, I fear recommendations based on whether the game was played/liked by other users would only serve as a proxy for defaulting back to a popular-games recommendation system. Regardless, it should be tested."
   ]
  },
  {
   "cell_type": "code",
   "execution_count": null,
   "metadata": {},
   "outputs": [],
   "source": []
  }
 ],
 "metadata": {
  "kernelspec": {
   "display_name": "learn-env",
   "language": "python",
   "name": "learn-env"
  },
  "language_info": {
   "codemirror_mode": {
    "name": "ipython",
    "version": 3
   },
   "file_extension": ".py",
   "mimetype": "text/x-python",
   "name": "python",
   "nbconvert_exporter": "python",
   "pygments_lexer": "ipython3",
   "version": "3.6.9"
  }
 },
 "nbformat": 4,
 "nbformat_minor": 4
}
